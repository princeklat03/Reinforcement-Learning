{
 "cells": [
  {
   "cell_type": "markdown",
   "id": "1c5fb56e",
   "metadata": {},
   "source": [
    "# Importing the libraries"
   ]
  },
  {
   "cell_type": "code",
   "execution_count": 1,
   "id": "583f905c",
   "metadata": {},
   "outputs": [],
   "source": [
    "import pandas as pd\n",
    "import numpy as np\n",
    "import matplotlib.pyplot as plt\n",
    "import seaborn as sns\n",
    "from PIL import Image"
   ]
  },
  {
   "cell_type": "code",
   "execution_count": 2,
   "id": "f06192d3",
   "metadata": {},
   "outputs": [],
   "source": [
    "img = Image.open(\"/Users/PKLAT/Desktop/Edureka/Reinforcement learning/ASSIGNMENT_REINFORCEMENT/Path.png\")"
   ]
  },
  {
   "cell_type": "code",
   "execution_count": 3,
   "id": "d6701d6f",
   "metadata": {},
   "outputs": [
    {
     "data": {
      "text/plain": [
       "<matplotlib.image.AxesImage at 0x7fb744887e10>"
      ]
     },
     "execution_count": 3,
     "metadata": {},
     "output_type": "execute_result"
    },
    {
     "data": {
      "image/png": "[encoded data removed]",
      "text/plain": [
       "<Figure size 432x288 with 1 Axes>"
      ]
     },
     "metadata": {
      "needs_background": "light"
     },
     "output_type": "display_data"
    }
   ],
   "source": [
    "%matplotlib inline\n",
    "plt.imshow(img)"
   ]
  },
  {
   "cell_type": "markdown",
   "id": "ce0dd2c3",
   "metadata": {},
   "source": [
    "### Defining reward matrix:100 for destination, 0 for possible paths, -1 for non-existent paths. Rows denote current state and columns are the possible action"
   ]
  },
  {
   "cell_type": "code",
   "execution_count": 5,
   "id": "fffdc0a1",
   "metadata": {},
   "outputs": [
    {
     "data": {
      "text/plain": [
       "matrix([[ -1,   0,   0,   0,  -1,  -1,  -1],\n",
       "        [  0,  -1,   0,  -1,  -1,   0,  -1],\n",
       "        [  0,   0,  -1,   0,   0,  -1,  -1],\n",
       "        [  0,  -1,   0,  -1,   0,  -1,  -1],\n",
       "        [ -1,  -1,   0,   0,  -1,   0, 100],\n",
       "        [ -1,   0,  -1,  -1,   0,  -1, 100],\n",
       "        [ -1,  -1,  -1,  -1,   0,   0, 100]])"
      ]
     },
     "execution_count": 5,
     "metadata": {},
     "output_type": "execute_result"
    }
   ],
   "source": [
    "R=np.matrix([[-1, 0, 0, 0, -1, -1, -1],[0, -1, 0, -1, -1, 0, -1],[0, 0, -1, 0, 0, -1, -1],[0, -1, 0, -1, 0, -1, -1],[-1,-1,0,0,-1,0,100],[-1,0,-1,-1,0,-1,100],[-1,-1,-1,-1,0,0,100]])\n",
    "R"
   ]
  },
  {
   "cell_type": "markdown",
   "id": "e3ca7c39",
   "metadata": {},
   "source": [
    "### Initializing the Q-matrix"
   ]
  },
  {
   "cell_type": "code",
   "execution_count": 6,
   "id": "97661d06",
   "metadata": {},
   "outputs": [
    {
     "data": {
      "text/plain": [
       "matrix([[0., 0., 0., 0., 0., 0., 0.],\n",
       "        [0., 0., 0., 0., 0., 0., 0.],\n",
       "        [0., 0., 0., 0., 0., 0., 0.],\n",
       "        [0., 0., 0., 0., 0., 0., 0.],\n",
       "        [0., 0., 0., 0., 0., 0., 0.],\n",
       "        [0., 0., 0., 0., 0., 0., 0.],\n",
       "        [0., 0., 0., 0., 0., 0., 0.]])"
      ]
     },
     "execution_count": 6,
     "metadata": {},
     "output_type": "execute_result"
    }
   ],
   "source": [
    "Q=np.matrix(np.zeros((7,7)))\n",
    "Q"
   ]
  },
  {
   "cell_type": "markdown",
   "id": "ff09ef0d",
   "metadata": {},
   "source": [
    "### Function to find the next state from a given state"
   ]
  },
  {
   "cell_type": "code",
   "execution_count": 7,
   "id": "3d8d4e01",
   "metadata": {},
   "outputs": [],
   "source": [
    "def next_step(current_state):\n",
    "    next_jump=np.where(R[current_state,]>=0)[1]\n",
    "    if next_jump.shape[0]>1:\n",
    "        next_jump=np.random.choice(next_jump,1)\n",
    "    return int(next_jump)"
   ]
  },
  {
   "cell_type": "markdown",
   "id": "98f613c5",
   "metadata": {},
   "source": [
    "### Function to update the Q matrix"
   ]
  },
  {
   "cell_type": "code",
   "execution_count": 8,
   "id": "bdcdc52a",
   "metadata": {},
   "outputs": [],
   "source": [
    "def update(present,future,gamma):\n",
    "    max_value=np.max(Q[future,])\n",
    "    Q[present,future] = R[present,future] + gamma*max_value"
   ]
  },
  {
   "cell_type": "markdown",
   "id": "f2df2585",
   "metadata": {},
   "source": [
    "### Updating the Q-matrix"
   ]
  },
  {
   "cell_type": "code",
   "execution_count": 9,
   "id": "e38cf206",
   "metadata": {},
   "outputs": [],
   "source": [
    "gamma=0.8\n",
    "for i in range(10000):\n",
    "    initial_state=np.random.randint(0,7)\n",
    "    next_state = next_step(initial_state)\n",
    "    update(initial_state, next_state,gamma)"
   ]
  },
  {
   "cell_type": "code",
   "execution_count": 10,
   "id": "8d25145c",
   "metadata": {},
   "outputs": [
    {
     "data": {
      "text/plain": [
       "matrix([[  0., 320., 320., 320.,   0.,   0.,   0.],\n",
       "        [256.,   0., 320.,   0.,   0., 400.,   0.],\n",
       "        [256., 320.,   0., 320., 400.,   0.,   0.],\n",
       "        [256.,   0., 320.,   0., 400.,   0.,   0.],\n",
       "        [  0.,   0., 320., 320.,   0., 400., 500.],\n",
       "        [  0., 320.,   0.,   0., 400.,   0., 500.],\n",
       "        [  0.,   0.,   0.,   0., 400., 400., 500.]])"
      ]
     },
     "execution_count": 10,
     "metadata": {},
     "output_type": "execute_result"
    }
   ],
   "source": [
    "Q"
   ]
  },
  {
   "cell_type": "markdown",
   "id": "860f65c3",
   "metadata": {},
   "source": [
    "### Finding the best possible path from any source"
   ]
  },
  {
   "cell_type": "code",
   "execution_count": 11,
   "id": "b0b18a0d",
   "metadata": {},
   "outputs": [
    {
     "name": "stdout",
     "output_type": "stream",
     "text": [
      "input a number from 1-7\n",
      "a\n",
      "Wrong input,input a number from 1-7 only\n",
      "9\n",
      "Wrong input,input a number from 1-7 only\n",
      "-9\n",
      "Wrong input,input a number from 1-7 only\n",
      "1\n",
      "To reach at the final destination 7 starting from step 1 use the following steps\n",
      "2 followed by\n",
      "6 followed by\n",
      "7 :You have reached your destination!\n"
     ]
    }
   ],
   "source": [
    "#Find the route:\n",
    "print(\"input a number from 1-7\")\n",
    "initial_state=input()\n",
    "while(True):\n",
    "    if(initial_state not in ['1','2','3','4','5','6','7']):\n",
    "        print(\"Wrong input,input a number from 1-7 only\")\n",
    "        initial_state=input()\n",
    "    else:\n",
    "        initial_state=int(initial_state)\n",
    "        break\n",
    "        \n",
    "step=[initial_state]\n",
    "while(initial_state!=7):\n",
    "    nex_st = np.where(Q[initial_state-1,]==np.max(Q[initial_state-1,]))[1]\n",
    "    if(nex_st.shape[0]>1):\n",
    "        nex_st = np.random.choice(nex_st,1)\n",
    "    nex_st=int(nex_st)\n",
    "    step.append(nex_st+1)\n",
    "    initial_state=nex_st+1\n",
    "    \n",
    "if(len(step)==1):\n",
    "    print(\"you are already at the destination\")\n",
    "elif(len(step)==2):\n",
    "    print(\"you can now directly go to the destination 7, no intermediate step needed\")\n",
    "else:\n",
    "    print(\"To reach at the final destination\", step[-1], \"starting from step\", step[0], \"use the following steps\")\n",
    "    for i in range(1,len(step)):\n",
    "        if(i!=len(step)-1): \n",
    "            print(step[i], \"followed by\")\n",
    "        if(i==len(step)-1):\n",
    "            print(step[i],\":You have reached your destination!\")"
   ]
  },
  {
   "cell_type": "code",
   "execution_count": null,
   "id": "7d9b5c9e",
   "metadata": {},
   "outputs": [],
   "source": []
  }
 ],
 "metadata": {
  "kernelspec": {
   "display_name": "Python 3",
   "language": "python",
   "name": "python3"
  },
  "language_info": {
   "codemirror_mode": {
    "name": "ipython",
    "version": 3
   },
   "file_extension": ".py",
   "mimetype": "text/x-python",
   "name": "python",
   "nbconvert_exporter": "python",
   "pygments_lexer": "ipython3",
   "version": "3.7.6"
  }
 },
 "nbformat": 4,
 "nbformat_minor": 5
}
